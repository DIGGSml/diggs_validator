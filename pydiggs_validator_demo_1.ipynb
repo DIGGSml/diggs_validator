{
 "cells": [
  {
   "cell_type": "markdown",
   "id": "e92d9467",
   "metadata": {},
   "source": [
    "# `pydiggs` Python Package Tutorial 1 - `validator` Demo"
   ]
  },
  {
   "cell_type": "markdown",
   "id": "b4ba8190",
   "metadata": {},
   "source": [
    "Author: Xin Peng, PhD, PE"
   ]
  },
  {
   "cell_type": "markdown",
   "id": "b91596d0",
   "metadata": {},
   "source": [
    "Email:\n",
    "xin.peng@tetratech.com; \n",
    "xin_peng@outlook.com"
   ]
  },
  {
   "cell_type": "markdown",
   "id": "13c559bb",
   "metadata": {},
   "source": [
    "Date: 07/01/2021"
   ]
  },
  {
   "cell_type": "markdown",
   "id": "1fc7fab0",
   "metadata": {},
   "source": [
    "## 1. Import `validator` from the `pydiggs` Python package"
   ]
  },
  {
   "cell_type": "code",
   "execution_count": 13,
   "id": "55de6449",
   "metadata": {
    "tags": []
   },
   "outputs": [],
   "source": [
    "from pydiggs import validator"
   ]
  },
  {
   "cell_type": "markdown",
   "id": "3e153bca",
   "metadata": {
    "tags": []
   },
   "source": [
    "## 2. Validate DIGGS instance files against the DIGGS XSD Schema"
   ]
  },
  {
   "cell_type": "markdown",
   "id": "e5317158",
   "metadata": {
    "tags": []
   },
   "source": [
    "### 2.1.a Create a \"validator\" object for the target DIGGS instance file, relative file path:"
   ]
  },
  {
   "cell_type": "code",
   "execution_count": 14,
   "id": "0899c2fc",
   "metadata": {
    "tags": []
   },
   "outputs": [],
   "source": [
    "trial_1 = validator(\"test_files/No_Error.xml\")"
   ]
  },
  {
   "cell_type": "markdown",
   "id": "49f38a4b",
   "metadata": {
    "tags": []
   },
   "source": [
    "### 2.1.b Create a \"validator\" object for the target DIGGS instance file, absolute file path:"
   ]
  },
  {
   "cell_type": "code",
   "execution_count": 15,
   "id": "45e5268d",
   "metadata": {
    "tags": []
   },
   "outputs": [],
   "source": [
    "# trial_1 = validator(\"C:/Users/xin_p/Desktop/pydiggs_demo/validator_demo/test_files/No_Error.xml\")"
   ]
  },
  {
   "cell_type": "markdown",
   "id": "eb9a40ae",
   "metadata": {
    "tags": []
   },
   "source": [
    "### 2.2 Validate the DIGGS instance file against the DIGGS XSD schema (V2.5.a by default):"
   ]
  },
  {
   "cell_type": "code",
   "execution_count": 16,
   "id": "fe2691f5",
   "metadata": {
    "collapsed": true,
    "jupyter": {
     "outputs_hidden": true
    },
    "tags": []
   },
   "outputs": [
    {
     "data": {
      "text/html": [
       "<pre style=\"white-space:pre;overflow-x:auto;line-height:normal;font-family:Menlo,'DejaVu Sans Mono',consolas,'Courier New',monospace\"><span style=\"color: #008000; text-decoration-color: #008000\">No syntax error is detected.</span>\n",
       "</pre>\n"
      ],
      "text/plain": [
       "\u001b[32mNo syntax error is detected.\u001b[0m\n"
      ]
     },
     "metadata": {},
     "output_type": "display_data"
    },
    {
     "data": {
      "text/html": [
       "<pre style=\"white-space:pre;overflow-x:auto;line-height:normal;font-family:Menlo,'DejaVu Sans Mono',consolas,'Courier New',monospace\"><span style=\"color: #008000; text-decoration-color: #008000\">No schema validation error is detected.</span>\n",
       "</pre>\n"
      ],
      "text/plain": [
       "\u001b[32mNo schema validation error is detected.\u001b[0m\n"
      ]
     },
     "metadata": {},
     "output_type": "display_data"
    }
   ],
   "source": [
    "trial_1.schema_check()"
   ]
  },
  {
   "cell_type": "markdown",
   "id": "104077fd",
   "metadata": {},
   "source": [
    "### 2.3 Validate the DIGGS instance file against a specific version of the DIGGS XSD schema:"
   ]
  },
  {
   "cell_type": "code",
   "execution_count": 20,
   "id": "50f7824a",
   "metadata": {
    "collapsed": true,
    "jupyter": {
     "outputs_hidden": true
    },
    "tags": []
   },
   "outputs": [
    {
     "data": {
      "text/html": [
       "<pre style=\"white-space:pre;overflow-x:auto;line-height:normal;font-family:Menlo,'DejaVu Sans Mono',consolas,'Courier New',monospace\"><span style=\"color: #008000; text-decoration-color: #008000\">No syntax error is detected.</span>\n",
       "</pre>\n"
      ],
      "text/plain": [
       "\u001b[32mNo syntax error is detected.\u001b[0m\n"
      ]
     },
     "metadata": {},
     "output_type": "display_data"
    },
    {
     "data": {
      "text/html": [
       "<pre style=\"white-space:pre;overflow-x:auto;line-height:normal;font-family:Menlo,'DejaVu Sans Mono',consolas,'Courier New',monospace\"><span style=\"color: #008000; text-decoration-color: #008000\">No schema validation error is detected.</span>\n",
       "</pre>\n"
      ],
      "text/plain": [
       "\u001b[32mNo schema validation error is detected.\u001b[0m\n"
      ]
     },
     "metadata": {},
     "output_type": "display_data"
    }
   ],
   "source": [
    "trial_2 = validator('test_files/No_Error.xml', schema_path = 'diggs_schema/diggs-schema-2.5.a/Complete.xsd')\n",
    "trial_2.schema_check()"
   ]
  },
  {
   "cell_type": "markdown",
   "id": "89489bc5",
   "metadata": {},
   "source": [
    "### 2.4 Validate the DIGGS instance file with an XML syntax error:"
   ]
  },
  {
   "cell_type": "code",
   "execution_count": 21,
   "id": "5cb6a745",
   "metadata": {
    "collapsed": true,
    "jupyter": {
     "outputs_hidden": true
    },
    "tags": []
   },
   "outputs": [
    {
     "data": {
      "text/html": [
       "<pre style=\"white-space:pre;overflow-x:auto;line-height:normal;font-family:Menlo,'DejaVu Sans Mono',consolas,'Courier New',monospace\"><span style=\"color: #800000; text-decoration-color: #800000\">XML syntax error, see </span><span style=\"color: #800000; text-decoration-color: #800000; font-weight: bold\">syntax_error.log</span><span style=\"color: #800000; text-decoration-color: #800000\"> file in detail. </span>\n",
       "</pre>\n"
      ],
      "text/plain": [
       "\u001b[31mXML syntax error, see \u001b[0m\u001b[1;31msyntax_error.log\u001b[0m\u001b[31m file in detail. \u001b[0m\n"
      ]
     },
     "metadata": {},
     "output_type": "display_data"
    }
   ],
   "source": [
    "trial_3 = validator('test_files/Syntax_Error_1.xml')\n",
    "trial_3.schema_check()"
   ]
  },
  {
   "cell_type": "markdown",
   "id": "1f676daf",
   "metadata": {},
   "source": [
    "### 2.5 Check `syntax_error_log`:"
   ]
  },
  {
   "cell_type": "code",
   "execution_count": 22,
   "id": "41f143a7",
   "metadata": {
    "collapsed": true,
    "jupyter": {
     "outputs_hidden": true
    },
    "tags": []
   },
   "outputs": [
    {
     "name": "stdout",
     "output_type": "stream",
     "text": [
      "Opening and ending tag mismatch: creationDate line 4 and CreationDate, line 4, column 52 (test_files/Syntax_Error_1.xml, line 4)\n"
     ]
    }
   ],
   "source": [
    "print(trial_3.syntax_error_log)"
   ]
  },
  {
   "cell_type": "markdown",
   "id": "ec7a7536",
   "metadata": {},
   "source": [
    "### 2.6 Validate the DIGGS instance file with DIGGS XSD schema errors:"
   ]
  },
  {
   "cell_type": "code",
   "execution_count": 23,
   "id": "a386ac82",
   "metadata": {
    "collapsed": true,
    "jupyter": {
     "outputs_hidden": true
    },
    "scrolled": true,
    "tags": []
   },
   "outputs": [
    {
     "data": {
      "text/html": [
       "<pre style=\"white-space:pre;overflow-x:auto;line-height:normal;font-family:Menlo,'DejaVu Sans Mono',consolas,'Courier New',monospace\"><span style=\"color: #008000; text-decoration-color: #008000\">No syntax error is detected.</span>\n",
       "</pre>\n"
      ],
      "text/plain": [
       "\u001b[32mNo syntax error is detected.\u001b[0m\n"
      ]
     },
     "metadata": {},
     "output_type": "display_data"
    },
    {
     "data": {
      "text/html": [
       "<pre style=\"white-space:pre;overflow-x:auto;line-height:normal;font-family:Menlo,'DejaVu Sans Mono',consolas,'Courier New',monospace\"><span style=\"color: #800000; text-decoration-color: #800000\">DIGGS Schema validation error, see </span><span style=\"color: #800000; text-decoration-color: #800000; font-weight: bold\">schema_validation.log</span><span style=\"color: #800000; text-decoration-color: #800000\"> file in detail. </span>\n",
       "</pre>\n"
      ],
      "text/plain": [
       "\u001b[31mDIGGS Schema validation error, see \u001b[0m\u001b[1;31mschema_validation.log\u001b[0m\u001b[31m file in detail. \u001b[0m\n"
      ]
     },
     "metadata": {},
     "output_type": "display_data"
    }
   ],
   "source": [
    "trial_4 = validator('test_files/Schema_Error_1.xml')\n",
    "trial_4.schema_check()"
   ]
  },
  {
   "cell_type": "markdown",
   "id": "41d1ba3a",
   "metadata": {
    "tags": []
   },
   "source": [
    "### 2.7 Check `schema_validation_log`:"
   ]
  },
  {
   "cell_type": "code",
   "execution_count": 24,
   "id": "d1914a5c",
   "metadata": {
    "collapsed": true,
    "jupyter": {
     "outputs_hidden": true
    },
    "scrolled": true,
    "tags": []
   },
   "outputs": [
    {
     "name": "stdout",
     "output_type": "stream",
     "text": [
      "test_files/Schema_Error_1.xml:6:0:ERROR:SCHEMASV:SCHEMAV_ELEMENT_CONTENT: Element '{http://diggsml.org/schemas/2.5.a}businessAssociate': This element is not expected. Expected is ( {http://diggsml.org/schemas/2.5.a}BusinessAssociate ).\n",
      "test_files/Schema_Error_1.xml:11:0:ERROR:SCHEMASV:SCHEMAV_ELEMENT_CONTENT: Element '{http://diggsml.org/schemas/2.5.a}AuditTrail': This element is not expected. Expected is one of ( {http://diggsml.org/schemas/2.5.a}sourceSoftware, {http://diggsml.org/schemas/2.5.a}destination, {http://diggsml.org/schemas/2.5.a}destinationSoftware, {http://diggsml.org/schemas/2.5.a}auditTrail ).\n"
     ]
    }
   ],
   "source": [
    "print(trial_4.schema_validation_log)"
   ]
  },
  {
   "cell_type": "markdown",
   "id": "0ee792ba",
   "metadata": {},
   "source": [
    "## 3. Validate DIGGS instance files against the XML/DIGGS schematron schema"
   ]
  },
  {
   "cell_type": "markdown",
   "id": "2f74cf3a",
   "metadata": {},
   "source": [
    "### 3.1 Validate against a specifc XML/DIGGS schematron schema:"
   ]
  },
  {
   "cell_type": "code",
   "execution_count": 25,
   "id": "ee6e387a",
   "metadata": {
    "collapsed": true,
    "jupyter": {
     "outputs_hidden": true
    },
    "tags": []
   },
   "outputs": [
    {
     "data": {
      "text/html": [
       "<pre style=\"white-space:pre;overflow-x:auto;line-height:normal;font-family:Menlo,'DejaVu Sans Mono',consolas,'Courier New',monospace\"><span style=\"color: #008000; text-decoration-color: #008000\">No syntax error is detected.</span>\n",
       "</pre>\n"
      ],
      "text/plain": [
       "\u001b[32mNo syntax error is detected.\u001b[0m\n"
      ]
     },
     "metadata": {},
     "output_type": "display_data"
    },
    {
     "data": {
      "text/html": [
       "<pre style=\"white-space:pre;overflow-x:auto;line-height:normal;font-family:Menlo,'DejaVu Sans Mono',consolas,'Courier New',monospace\"><span style=\"color: #008000; text-decoration-color: #008000\">No schematron validation error is detected.</span>\n",
       "</pre>\n"
      ],
      "text/plain": [
       "\u001b[32mNo schematron validation error is detected.\u001b[0m\n"
      ]
     },
     "metadata": {},
     "output_type": "display_data"
    }
   ],
   "source": [
    "trial_5 = validator('test_files/Schematron_Error_1.xml', schematron_path = \"test_schematron_schema/test_schematron_1.sch\")\n",
    "trial_5.schematron_check()"
   ]
  },
  {
   "cell_type": "markdown",
   "id": "fd2a28f5",
   "metadata": {},
   "source": [
    "### 3.2 Validate against another XML/DIGGS schematron schema:"
   ]
  },
  {
   "cell_type": "code",
   "execution_count": 26,
   "id": "68704dbc",
   "metadata": {
    "collapsed": true,
    "jupyter": {
     "outputs_hidden": true
    },
    "tags": []
   },
   "outputs": [
    {
     "data": {
      "text/html": [
       "<pre style=\"white-space:pre;overflow-x:auto;line-height:normal;font-family:Menlo,'DejaVu Sans Mono',consolas,'Courier New',monospace\"><span style=\"color: #008000; text-decoration-color: #008000\">No syntax error is detected.</span>\n",
       "</pre>\n"
      ],
      "text/plain": [
       "\u001b[32mNo syntax error is detected.\u001b[0m\n"
      ]
     },
     "metadata": {},
     "output_type": "display_data"
    },
    {
     "data": {
      "text/html": [
       "<pre style=\"white-space:pre;overflow-x:auto;line-height:normal;font-family:Menlo,'DejaVu Sans Mono',consolas,'Courier New',monospace\"><span style=\"color: #800000; text-decoration-color: #800000\">DIGGS schematron validation Error, see </span><span style=\"color: #800000; text-decoration-color: #800000; font-weight: bold\">schematron_validation.log</span><span style=\"color: #800000; text-decoration-color: #800000\"> file in detail. </span>\n",
       "</pre>\n"
      ],
      "text/plain": [
       "\u001b[31mDIGGS schematron validation Error, see \u001b[0m\u001b[1;31mschematron_validation.log\u001b[0m\u001b[31m file in detail. \u001b[0m\n"
      ]
     },
     "metadata": {},
     "output_type": "display_data"
    }
   ],
   "source": [
    "trial_6 =validator('test_files/Schematron_Error_1.xml', schematron_path = 'test_schematron_schema/test_schematron_2.sch')\n",
    "trial_6.schematron_check()"
   ]
  },
  {
   "cell_type": "markdown",
   "id": "b771926a",
   "metadata": {},
   "source": [
    "### 3.2 Check `schematron_validation_log`:"
   ]
  },
  {
   "cell_type": "code",
   "execution_count": 27,
   "id": "58fcff59",
   "metadata": {
    "collapsed": true,
    "jupyter": {
     "outputs_hidden": true
    },
    "scrolled": true,
    "tags": []
   },
   "outputs": [
    {
     "name": "stdout",
     "output_type": "stream",
     "text": [
      "test_files/Schematron_Error_1.xml:0:0:ERROR:SCHEMATRONV:SCHEMATRONV_ASSERT: <svrl:failed-assert xmlns:svrl=\"http://purl.oclc.org/dsdl/svrl\" xmlns:xs=\"http://www.w3.org/2001/XMLSchema\" xmlns:schold=\"http://www.ascc.net/xml/schematron\" xmlns:sch=\"http://www.ascc.net/xml/schematron\" xmlns:iso=\"http://purl.oclc.org/dsdl/schematron\" xmlns:diggs=\"http://diggsml.org/schemas/2.5.a\" xmlns:gml=\"http://www.opengis.net/gml/3.2\" test=\"$length &gt;=0\" location=\"/*[local-name()='Diggs' and namespace-uri()='http://diggsml.org/schemas/2.5.a']/*[local-name()='samplingActivity' and namespace-uri()='http://diggsml.org/schemas/2.5.a'][1]/*[local-name()='SamplingActivity' and namespace-uri()='http://diggsml.org/schemas/2.5.a']/*[local-name()='totalSampleRecoveryLength' and namespace-uri()='http://diggsml.org/schemas/2.5.a']\"><svrl:text>'totalSampleRecoveryLength' must be greater than or equal to 0.</svrl:text></svrl:failed-assert>\n",
      "test_files/Schematron_Error_1.xml:0:0:ERROR:SCHEMATRONV:SCHEMATRONV_ASSERT: <svrl:failed-assert xmlns:svrl=\"http://purl.oclc.org/dsdl/svrl\" xmlns:xs=\"http://www.w3.org/2001/XMLSchema\" xmlns:schold=\"http://www.ascc.net/xml/schematron\" xmlns:sch=\"http://www.ascc.net/xml/schematron\" xmlns:iso=\"http://purl.oclc.org/dsdl/schematron\" xmlns:diggs=\"http://diggsml.org/schemas/2.5.a\" xmlns:gml=\"http://www.opengis.net/gml/3.2\" test=\"$length &gt;=0\" location=\"/*[local-name()='Diggs' and namespace-uri()='http://diggsml.org/schemas/2.5.a']/*[local-name()='samplingActivity' and namespace-uri()='http://diggsml.org/schemas/2.5.a'][2]/*[local-name()='SamplingActivity' and namespace-uri()='http://diggsml.org/schemas/2.5.a']/*[local-name()='totalSampleRecoveryLength' and namespace-uri()='http://diggsml.org/schemas/2.5.a']\"><svrl:text>'totalSampleRecoveryLength' must be greater than or equal to 0.</svrl:text></svrl:failed-assert>\n"
     ]
    }
   ],
   "source": [
    "print(trial_6.schematron_validation_log)"
   ]
  },
  {
   "cell_type": "markdown",
   "id": "04d1e123-0ad7-4519-b397-dba7c53c8d83",
   "metadata": {},
   "source": [
    "## 4.  Validate DIGGS Files Using Command Line interface "
   ]
  },
  {
   "cell_type": "markdown",
   "id": "f8ccf90f-4e88-434a-9458-6dd8c0b0c847",
   "metadata": {},
   "source": [
    "### 4.1 Validate a DIGGS instance file against the DIGGS schema:"
   ]
  },
  {
   "cell_type": "markdown",
   "id": "d9af2236-c4a5-4df2-a7fe-da0c5820ae78",
   "metadata": {
    "tags": []
   },
   "source": [
    "`pydiggs schema_check \"test_files/No_Error.xml\"`"
   ]
  },
  {
   "cell_type": "markdown",
   "id": "d339670f-da01-407c-be89-0aba01a04adb",
   "metadata": {},
   "source": [
    "### 4.2 Validate a DIGGS instance file against a specific version of the DIGGS schema:"
   ]
  },
  {
   "cell_type": "markdown",
   "id": "a9729ba2-62d2-4411-9031-74f9c38aca5c",
   "metadata": {
    "tags": []
   },
   "source": [
    "`pydiggs schema_check \"test_files/No_Error.xml\" --schema_path \"diggs_schema/diggs-schema-2.5.a/Complete.xsd\"`"
   ]
  },
  {
   "cell_type": "markdown",
   "id": "e1429086-2ee5-4669-865f-66d9177e5482",
   "metadata": {},
   "source": [
    "### 4.3 Validate a DIGGS instance file against a schematron schema:"
   ]
  },
  {
   "cell_type": "markdown",
   "id": "2ef1158d-ec7f-42ae-b312-30b76b74a614",
   "metadata": {
    "tags": []
   },
   "source": [
    "`pydiggs schematron_check \"test_files/Schematron_Error_1.xml\" --schematron_path \"test_schematron_schema/test_schematron_2.sch\"`"
   ]
  }
 ],
 "metadata": {
  "kernelspec": {
   "display_name": "Python 3",
   "language": "python",
   "name": "python3"
  },
  "language_info": {
   "codemirror_mode": {
    "name": "ipython",
    "version": 3
   },
   "file_extension": ".py",
   "mimetype": "text/x-python",
   "name": "python",
   "nbconvert_exporter": "python",
   "pygments_lexer": "ipython3",
   "version": "3.8.10"
  }
 },
 "nbformat": 4,
 "nbformat_minor": 5
}
